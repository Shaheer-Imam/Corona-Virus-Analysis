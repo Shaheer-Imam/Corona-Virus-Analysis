{
  "nbformat": 4,
  "nbformat_minor": 0,
  "metadata": {
    "colab": {
      "name": "Corona Virus Analysis.ipynb",
      "provenance": []
    },
    "kernelspec": {
      "name": "python3",
      "display_name": "Python 3"
    }
  },
  "cells": [
    {
      "cell_type": "code",
      "metadata": {
        "id": "WvNYcRJzWOKB",
        "colab_type": "code",
        "colab": {}
      },
      "source": [
        "import numpy as np\n",
        "import pandas as pd \n",
        "import seaborn as sns\n",
        "import matplotlib.pyplot as plt\n",
        "import matplotlib.dates as mdates\n",
        "import plotly.express as px\n",
        "from datetime import date, timedelta\n",
        "from statsmodels.tsa.arima_model import ARIMA\n",
        "from sklearn.cluster import KMeans"
      ],
      "execution_count": 0,
      "outputs": []
    },
    {
      "cell_type": "code",
      "metadata": {
        "id": "T8carJL3W7tR",
        "colab_type": "code",
        "colab": {
          "base_uri": "https://localhost:8080/",
          "height": 124
        },
        "outputId": "538f2ac8-3251-4f9e-8575-76f8707a558a"
      },
      "source": [
        "from google.colab import drive\n",
        "drive.mount('/content/drive')"
      ],
      "execution_count": 3,
      "outputs": [
        {
          "output_type": "stream",
          "text": [
            "Go to this URL in a browser: https://accounts.google.com/o/oauth2/auth?client_id=947318989803-6bn6qk8qdgf4n4g3pfee6491hc0brc4i.apps.googleusercontent.com&redirect_uri=urn%3aietf%3awg%3aoauth%3a2.0%3aoob&response_type=code&scope=email%20https%3a%2f%2fwww.googleapis.com%2fauth%2fdocs.test%20https%3a%2f%2fwww.googleapis.com%2fauth%2fdrive%20https%3a%2f%2fwww.googleapis.com%2fauth%2fdrive.photos.readonly%20https%3a%2f%2fwww.googleapis.com%2fauth%2fpeopleapi.readonly\n",
            "\n",
            "Enter your authorization code:\n",
            "··········\n",
            "Mounted at /content/drive\n"
          ],
          "name": "stdout"
        }
      ]
    },
    {
      "cell_type": "code",
      "metadata": {
        "id": "K6oNqW5WXHsQ",
        "colab_type": "code",
        "colab": {}
      },
      "source": [
        "path = \"/content/drive/My Drive/Datasets/Corona/\"\n",
        "patient_data = path + 'patient.csv'\n",
        "route_data = path + 'route.csv'\n",
        "time_data = path + 'time.csv'\n",
        "\n",
        "df_patient = pd.read_csv(patient_data)\n",
        "df_route = pd.read_csv(route_data)\n",
        "df_time = pd.read_csv(time_data)"
      ],
      "execution_count": 0,
      "outputs": []
    },
    {
      "cell_type": "code",
      "metadata": {
        "id": "QHx6ax4rXrnX",
        "colab_type": "code",
        "colab": {
          "base_uri": "https://localhost:8080/",
          "height": 206
        },
        "outputId": "4c03388e-9a91-458b-e27b-e2125598a0e4"
      },
      "source": [
        "df_patient.head()"
      ],
      "execution_count": 5,
      "outputs": [
        {
          "output_type": "execute_result",
          "data": {
            "text/html": [
              "<div>\n",
              "<style scoped>\n",
              "    .dataframe tbody tr th:only-of-type {\n",
              "        vertical-align: middle;\n",
              "    }\n",
              "\n",
              "    .dataframe tbody tr th {\n",
              "        vertical-align: top;\n",
              "    }\n",
              "\n",
              "    .dataframe thead th {\n",
              "        text-align: right;\n",
              "    }\n",
              "</style>\n",
              "<table border=\"1\" class=\"dataframe\">\n",
              "  <thead>\n",
              "    <tr style=\"text-align: right;\">\n",
              "      <th></th>\n",
              "      <th>id</th>\n",
              "      <th>sex</th>\n",
              "      <th>birth_year</th>\n",
              "      <th>country</th>\n",
              "      <th>region</th>\n",
              "      <th>group</th>\n",
              "      <th>infection_reason</th>\n",
              "      <th>infection_order</th>\n",
              "      <th>infected_by</th>\n",
              "      <th>contact_number</th>\n",
              "      <th>confirmed_date</th>\n",
              "      <th>released_date</th>\n",
              "      <th>deceased_date</th>\n",
              "      <th>state</th>\n",
              "    </tr>\n",
              "  </thead>\n",
              "  <tbody>\n",
              "    <tr>\n",
              "      <th>0</th>\n",
              "      <td>1.0</td>\n",
              "      <td>female</td>\n",
              "      <td>1984.0</td>\n",
              "      <td>China</td>\n",
              "      <td>filtered at airport</td>\n",
              "      <td>NaN</td>\n",
              "      <td>visit to Wuhan</td>\n",
              "      <td>1.0</td>\n",
              "      <td>NaN</td>\n",
              "      <td>45.0</td>\n",
              "      <td>2020-01-20</td>\n",
              "      <td>2020-02-06</td>\n",
              "      <td>NaN</td>\n",
              "      <td>released</td>\n",
              "    </tr>\n",
              "    <tr>\n",
              "      <th>1</th>\n",
              "      <td>2.0</td>\n",
              "      <td>male</td>\n",
              "      <td>1964.0</td>\n",
              "      <td>Korea</td>\n",
              "      <td>filtered at airport</td>\n",
              "      <td>NaN</td>\n",
              "      <td>visit to Wuhan</td>\n",
              "      <td>1.0</td>\n",
              "      <td>NaN</td>\n",
              "      <td>75.0</td>\n",
              "      <td>2020-01-24</td>\n",
              "      <td>2020-02-05</td>\n",
              "      <td>NaN</td>\n",
              "      <td>released</td>\n",
              "    </tr>\n",
              "    <tr>\n",
              "      <th>2</th>\n",
              "      <td>3.0</td>\n",
              "      <td>male</td>\n",
              "      <td>1966.0</td>\n",
              "      <td>Korea</td>\n",
              "      <td>capital area</td>\n",
              "      <td>NaN</td>\n",
              "      <td>visit to Wuhan</td>\n",
              "      <td>1.0</td>\n",
              "      <td>NaN</td>\n",
              "      <td>16.0</td>\n",
              "      <td>2020-01-26</td>\n",
              "      <td>2020-02-12</td>\n",
              "      <td>NaN</td>\n",
              "      <td>released</td>\n",
              "    </tr>\n",
              "    <tr>\n",
              "      <th>3</th>\n",
              "      <td>4.0</td>\n",
              "      <td>male</td>\n",
              "      <td>1964.0</td>\n",
              "      <td>Korea</td>\n",
              "      <td>capital area</td>\n",
              "      <td>NaN</td>\n",
              "      <td>visit to Wuhan</td>\n",
              "      <td>1.0</td>\n",
              "      <td>NaN</td>\n",
              "      <td>95.0</td>\n",
              "      <td>2020-01-27</td>\n",
              "      <td>2020-02-09</td>\n",
              "      <td>NaN</td>\n",
              "      <td>released</td>\n",
              "    </tr>\n",
              "    <tr>\n",
              "      <th>4</th>\n",
              "      <td>5.0</td>\n",
              "      <td>male</td>\n",
              "      <td>1987.0</td>\n",
              "      <td>Korea</td>\n",
              "      <td>capital area</td>\n",
              "      <td>NaN</td>\n",
              "      <td>visit to Wuhan</td>\n",
              "      <td>1.0</td>\n",
              "      <td>NaN</td>\n",
              "      <td>31.0</td>\n",
              "      <td>2020-01-30</td>\n",
              "      <td>2020-03-02</td>\n",
              "      <td>NaN</td>\n",
              "      <td>released</td>\n",
              "    </tr>\n",
              "  </tbody>\n",
              "</table>\n",
              "</div>"
            ],
            "text/plain": [
              "    id     sex  birth_year  ... released_date deceased_date     state\n",
              "0  1.0  female      1984.0  ...    2020-02-06           NaN  released\n",
              "1  2.0    male      1964.0  ...    2020-02-05           NaN  released\n",
              "2  3.0    male      1966.0  ...    2020-02-12           NaN  released\n",
              "3  4.0    male      1964.0  ...    2020-02-09           NaN  released\n",
              "4  5.0    male      1987.0  ...    2020-03-02           NaN  released\n",
              "\n",
              "[5 rows x 14 columns]"
            ]
          },
          "metadata": {
            "tags": []
          },
          "execution_count": 5
        }
      ]
    },
    {
      "cell_type": "markdown",
      "metadata": {
        "id": "uAUBjl7tXwk8",
        "colab_type": "text"
      },
      "source": [
        "id the ID of the patient (n-th confirmed patient)\n",
        "\n",
        "sex the sex of the patient\n",
        "\n",
        "birth_year the birth year of the patient\n",
        "\n",
        "country the country of the patient\n",
        "\n",
        "region the region of the patient\n",
        "\n",
        "group the collective infection\n",
        "\n",
        "infection_reason the reason of infection\n",
        "\n",
        "infection_order the order of infection\n",
        "\n",
        "infected_by the ID of who has infected the patient\n",
        "\n",
        "contact_number the number of contacts with people\n",
        "\n",
        "confirmed_date the date of confirmation\n",
        "\n",
        "released_date the date of discharge\n",
        "\n",
        "deceased_date the date of decease\n",
        "\n",
        "state isolated / released / deceased"
      ]
    },
    {
      "cell_type": "code",
      "metadata": {
        "id": "yuTvQIahXuC9",
        "colab_type": "code",
        "colab": {
          "base_uri": "https://localhost:8080/",
          "height": 278
        },
        "outputId": "ab1a9c0f-099c-4cc0-fed3-6fcf9633ea2f"
      },
      "source": [
        "df_patient.isna().sum()"
      ],
      "execution_count": 6,
      "outputs": [
        {
          "output_type": "execute_result",
          "data": {
            "text/plain": [
              "id                     1\n",
              "sex                 5864\n",
              "birth_year          5877\n",
              "country                2\n",
              "region              5876\n",
              "group               6202\n",
              "infection_reason    6139\n",
              "infection_order     6250\n",
              "infected_by         6215\n",
              "contact_number      6235\n",
              "confirmed_date         1\n",
              "released_date       6247\n",
              "deceased_date       6262\n",
              "state                  1\n",
              "dtype: int64"
            ]
          },
          "metadata": {
            "tags": []
          },
          "execution_count": 6
        }
      ]
    },
    {
      "cell_type": "code",
      "metadata": {
        "id": "NJRY4gddX9i3",
        "colab_type": "code",
        "colab": {}
      },
      "source": [
        "df_patient['birth_year'] = df_patient.birth_year.fillna(0.0).astype(int)\n",
        "df_patient['birth_year'] = df_patient['birth_year'].map(lambda val: val if val > 0 else np.nan)\n",
        "df_patient.confirmed_date = pd.to_datetime(df_patient.confirmed_date)\n",
        "daily_count = df_patient.groupby(df_patient.confirmed_date).id.count()\n",
        "accumulated_count = daily_count.cumsum()\n",
        "df_patient['age'] = 2020 - df_patient['birth_year'] "
      ],
      "execution_count": 0,
      "outputs": []
    },
    {
      "cell_type": "code",
      "metadata": {
        "id": "96jGmIuJYCYh",
        "colab_type": "code",
        "colab": {}
      },
      "source": [
        "import math\n",
        "def group_age(age):\n",
        "    if age >= 0: # not NaN\n",
        "        if age % 10 != 0:\n",
        "            lower = int(math.floor(age / 10.0)) * 10\n",
        "            upper = int(math.ceil(age / 10.0)) * 10 - 1\n",
        "            return f\"{lower}-{upper}\"\n",
        "        else:\n",
        "            lower = int(age)\n",
        "            upper = int(age + 9) \n",
        "            return f\"{lower}-{upper}\"\n",
        "    return \"Unknown\"\n",
        "\n",
        "df_patient[\"age_range\"] = df_patient[\"age\"].apply(group_age)"
      ],
      "execution_count": 0,
      "outputs": []
    },
    {
      "cell_type": "code",
      "metadata": {
        "id": "9KWoBXLBYI0W",
        "colab_type": "code",
        "colab": {
          "base_uri": "https://localhost:8080/",
          "height": 206
        },
        "outputId": "5a8e8597-848d-48ca-c759-9a310e1ffa19"
      },
      "source": [
        "df_patient.head()"
      ],
      "execution_count": 10,
      "outputs": [
        {
          "output_type": "execute_result",
          "data": {
            "text/html": [
              "<div>\n",
              "<style scoped>\n",
              "    .dataframe tbody tr th:only-of-type {\n",
              "        vertical-align: middle;\n",
              "    }\n",
              "\n",
              "    .dataframe tbody tr th {\n",
              "        vertical-align: top;\n",
              "    }\n",
              "\n",
              "    .dataframe thead th {\n",
              "        text-align: right;\n",
              "    }\n",
              "</style>\n",
              "<table border=\"1\" class=\"dataframe\">\n",
              "  <thead>\n",
              "    <tr style=\"text-align: right;\">\n",
              "      <th></th>\n",
              "      <th>id</th>\n",
              "      <th>sex</th>\n",
              "      <th>birth_year</th>\n",
              "      <th>country</th>\n",
              "      <th>region</th>\n",
              "      <th>group</th>\n",
              "      <th>infection_reason</th>\n",
              "      <th>infection_order</th>\n",
              "      <th>infected_by</th>\n",
              "      <th>contact_number</th>\n",
              "      <th>confirmed_date</th>\n",
              "      <th>released_date</th>\n",
              "      <th>deceased_date</th>\n",
              "      <th>state</th>\n",
              "      <th>age</th>\n",
              "      <th>age_range</th>\n",
              "    </tr>\n",
              "  </thead>\n",
              "  <tbody>\n",
              "    <tr>\n",
              "      <th>0</th>\n",
              "      <td>1.0</td>\n",
              "      <td>female</td>\n",
              "      <td>1984.0</td>\n",
              "      <td>China</td>\n",
              "      <td>filtered at airport</td>\n",
              "      <td>NaN</td>\n",
              "      <td>visit to Wuhan</td>\n",
              "      <td>1.0</td>\n",
              "      <td>NaN</td>\n",
              "      <td>45.0</td>\n",
              "      <td>2020-01-20</td>\n",
              "      <td>2020-02-06</td>\n",
              "      <td>NaN</td>\n",
              "      <td>released</td>\n",
              "      <td>36.0</td>\n",
              "      <td>30-39</td>\n",
              "    </tr>\n",
              "    <tr>\n",
              "      <th>1</th>\n",
              "      <td>2.0</td>\n",
              "      <td>male</td>\n",
              "      <td>1964.0</td>\n",
              "      <td>Korea</td>\n",
              "      <td>filtered at airport</td>\n",
              "      <td>NaN</td>\n",
              "      <td>visit to Wuhan</td>\n",
              "      <td>1.0</td>\n",
              "      <td>NaN</td>\n",
              "      <td>75.0</td>\n",
              "      <td>2020-01-24</td>\n",
              "      <td>2020-02-05</td>\n",
              "      <td>NaN</td>\n",
              "      <td>released</td>\n",
              "      <td>56.0</td>\n",
              "      <td>50-59</td>\n",
              "    </tr>\n",
              "    <tr>\n",
              "      <th>2</th>\n",
              "      <td>3.0</td>\n",
              "      <td>male</td>\n",
              "      <td>1966.0</td>\n",
              "      <td>Korea</td>\n",
              "      <td>capital area</td>\n",
              "      <td>NaN</td>\n",
              "      <td>visit to Wuhan</td>\n",
              "      <td>1.0</td>\n",
              "      <td>NaN</td>\n",
              "      <td>16.0</td>\n",
              "      <td>2020-01-26</td>\n",
              "      <td>2020-02-12</td>\n",
              "      <td>NaN</td>\n",
              "      <td>released</td>\n",
              "      <td>54.0</td>\n",
              "      <td>50-59</td>\n",
              "    </tr>\n",
              "    <tr>\n",
              "      <th>3</th>\n",
              "      <td>4.0</td>\n",
              "      <td>male</td>\n",
              "      <td>1964.0</td>\n",
              "      <td>Korea</td>\n",
              "      <td>capital area</td>\n",
              "      <td>NaN</td>\n",
              "      <td>visit to Wuhan</td>\n",
              "      <td>1.0</td>\n",
              "      <td>NaN</td>\n",
              "      <td>95.0</td>\n",
              "      <td>2020-01-27</td>\n",
              "      <td>2020-02-09</td>\n",
              "      <td>NaN</td>\n",
              "      <td>released</td>\n",
              "      <td>56.0</td>\n",
              "      <td>50-59</td>\n",
              "    </tr>\n",
              "    <tr>\n",
              "      <th>4</th>\n",
              "      <td>5.0</td>\n",
              "      <td>male</td>\n",
              "      <td>1987.0</td>\n",
              "      <td>Korea</td>\n",
              "      <td>capital area</td>\n",
              "      <td>NaN</td>\n",
              "      <td>visit to Wuhan</td>\n",
              "      <td>1.0</td>\n",
              "      <td>NaN</td>\n",
              "      <td>31.0</td>\n",
              "      <td>2020-01-30</td>\n",
              "      <td>2020-03-02</td>\n",
              "      <td>NaN</td>\n",
              "      <td>released</td>\n",
              "      <td>33.0</td>\n",
              "      <td>30-39</td>\n",
              "    </tr>\n",
              "  </tbody>\n",
              "</table>\n",
              "</div>"
            ],
            "text/plain": [
              "    id     sex  birth_year country  ... deceased_date     state   age  age_range\n",
              "0  1.0  female      1984.0   China  ...           NaN  released  36.0      30-39\n",
              "1  2.0    male      1964.0   Korea  ...           NaN  released  56.0      50-59\n",
              "2  3.0    male      1966.0   Korea  ...           NaN  released  54.0      50-59\n",
              "3  4.0    male      1964.0   Korea  ...           NaN  released  56.0      50-59\n",
              "4  5.0    male      1987.0   Korea  ...           NaN  released  33.0      30-39\n",
              "\n",
              "[5 rows x 16 columns]"
            ]
          },
          "metadata": {
            "tags": []
          },
          "execution_count": 10
        }
      ]
    },
    {
      "cell_type": "code",
      "metadata": {
        "id": "G5tyK05QYLXu",
        "colab_type": "code",
        "colab": {}
      },
      "source": [
        "patient=df_patient"
      ],
      "execution_count": 0,
      "outputs": []
    },
    {
      "cell_type": "markdown",
      "metadata": {
        "id": "y6uQc3IKYPaP",
        "colab_type": "text"
      },
      "source": [
        "###A little bit of preprocessing"
      ]
    },
    {
      "cell_type": "code",
      "metadata": {
        "id": "SAdo2qWmYNFh",
        "colab_type": "code",
        "colab": {}
      },
      "source": [
        "date_cols = [\"confirmed_date\", \"released_date\", \"deceased_date\"]\n",
        "for col in date_cols:\n",
        "    patient[col] = pd.to_datetime(patient[col])"
      ],
      "execution_count": 0,
      "outputs": []
    },
    {
      "cell_type": "code",
      "metadata": {
        "id": "wj3G7QXOYSYR",
        "colab_type": "code",
        "colab": {}
      },
      "source": [
        "patient[\"time_to_release_since_confirmed\"] = patient[\"released_date\"] - patient[\"confirmed_date\"]\n",
        "patient[\"time_to_death_since_confirmed\"] = patient[\"deceased_date\"] - patient[\"confirmed_date\"]\n",
        "patient[\"duration_since_confirmed\"] = patient[[\"time_to_release_since_confirmed\", \"time_to_death_since_confirmed\"]].min(axis=1)\n",
        "patient[\"duration_days\"] = patient[\"duration_since_confirmed\"].dt.days\n",
        "age_ranges = sorted(set([ar for ar in patient[\"age_range\"] if ar != \"Unknown\"]))\n",
        "patient[\"state_by_gender\"] = patient[\"state\"] + \"_\" + patient[\"sex\"]"
      ],
      "execution_count": 0,
      "outputs": []
    },
    {
      "cell_type": "code",
      "metadata": {
        "id": "q5zVPKFzYUrI",
        "colab_type": "code",
        "colab": {
          "base_uri": "https://localhost:8080/",
          "height": 302
        },
        "outputId": "75965b6d-6b1f-4a11-af67-2d4f3b373a0a"
      },
      "source": [
        "accumulated_count.plot()\n",
        "plt.title('Accumulated Confirmed Count');"
      ],
      "execution_count": 15,
      "outputs": [
        {
          "output_type": "display_data",
          "data": {
            "image/png": "[encoded data removed]",
            "text/plain": [
              "<Figure size 432x288 with 1 Axes>"
            ]
          },
          "metadata": {
            "tags": []
          }
        }
      ]
    },
    {
      "cell_type": "code",
      "metadata": {
        "id": "RSyzj5moYXU8",
        "colab_type": "code",
        "colab": {
          "base_uri": "https://localhost:8080/",
          "height": 69
        },
        "outputId": "2adefdcc-41ec-4d66-fcd3-09eb4fdc2c3b"
      },
      "source": [
        "infected_patient = patient.shape[0]\n",
        "rp = patient.loc[patient[\"state\"] == \"released\"].shape[0]released = df_patient[df_patient.state == 'released']\n",
        "released.head()\n",
        "\n",
        "dp = patient.loc[patient[\"state\"] == \"deceased\"].shape[0]\n",
        "ip = patient.loc[patient[\"state\"]== \"isolated\"].shape[0]\n",
        "rp=rp/patient.shape[0]\n",
        "dp=dp/patient.shape[0]\n",
        "ip=ip/patient.shape[0]\n",
        "print(\"The percentage of recovery is \"+ str(rp*100) )\n",
        "print(\"The percentage of deceased is \"+ str(dp*100) )\n",
        "print(\"The percentage of isolated is \"+ str(ip*100) )"
      ],
      "execution_count": 16,
      "outputs": [
        {
          "output_type": "stream",
          "text": [
            "The percentage of recovery is 0.6364359586316627\n",
            "The percentage of deceased is 0.36595067621320604\n",
            "The percentage of isolated is 98.98170246618933\n"
          ],
          "name": "stdout"
        }
      ]
    },
    {
      "cell_type": "code",
      "metadata": {
        "id": "4c56UbXvYZha",
        "colab_type": "code",
        "colab": {
          "base_uri": "https://localhost:8080/",
          "height": 542
        },
        "outputId": "97beeda4-04d6-413e-9054-540211c42633"
      },
      "source": [
        "states = pd.DataFrame(patient[\"state\"].value_counts())\n",
        "states[\"status\"] = states.index\n",
        "states.rename(columns={\"state\": \"count\"}, inplace=True)\n",
        "\n",
        "fig = px.pie(states,\n",
        "             values=\"count\",\n",
        "             names=\"status\",\n",
        "             title=\"Current state of patients\",\n",
        "             template=\"seaborn\")\n",
        "fig.update_traces(rotation=90, pull=0.05, textinfo=\"value+percent+label\")\n",
        "fig.show()\n"
      ],
      "execution_count": 17,
      "outputs": [
        {
          "output_type": "display_data",
          "data": {
            "text/html": [
              "<html>\n",
              "<head><meta charset=\"utf-8\" /></head>\n",
              "<body>\n",
              "    <div>\n",
              "            <script src=\"https://cdnjs.cloudflare.com/ajax/libs/mathjax/2.7.5/MathJax.js?config=TeX-AMS-MML_SVG\"></script><script type=\"text/javascript\">if (window.MathJax) {MathJax.Hub.Config({SVG: {font: \"STIX-Web\"}});}</script>\n",
              "                <script type=\"text/javascript\">window.PlotlyConfig = {MathJaxConfig: 'local'};</script>\n",
              "        <script src=\"https://cdn.plot.ly/plotly-latest.min.js\"></script>    \n",
              "            <div id=\"99abada1-22a2-40e1-808c-5cda0c9fdc53\" class=\"plotly-graph-div\" style=\"height:525px; width:100%;\"></div>\n",
              "            <script type=\"text/javascript\">\n",
              "                \n",
              "                    window.PLOTLYENV=window.PLOTLYENV || {};\n",
              "                    \n",
              "                if (document.getElementById(\"99abada1-22a2-40e1-808c-5cda0c9fdc53\")) {\n",
              "                    Plotly.newPlot(\n",
              "                        '99abada1-22a2-40e1-808c-5cda0c9fdc53',\n",
              "                        [{\"domain\": {\"x\": [0.0, 1.0], \"y\": [0.0, 1.0]}, \"hoverlabel\": {\"namelength\": 0}, \"hovertemplate\": \"status=%{label}<br>count=%{value}\", \"labels\": [\"isolated\", \"released\", \"deceased\"], \"legendgroup\": \"\", \"name\": \"\", \"pull\": 0.05, \"rotation\": 90, \"showlegend\": true, \"textinfo\": \"value+percent+label\", \"type\": \"pie\", \"values\": [6221, 40, 23]}],\n",
              "                        {\"legend\": {\"tracegroupgap\": 0}, \"template\": {\"data\": {\"bar\": [{\"error_x\": {\"color\": \"rgb(36,36,36)\"}, \"error_y\": {\"color\": \"rgb(36,36,36)\"}, \"marker\": {\"line\": {\"color\": \"rgb(234,234,242)\", \"width\": 0.5}}, \"type\": \"bar\"}], \"barpolar\": [{\"marker\": {\"line\": {\"color\": \"rgb(234,234,242)\", \"width\": 0.5}}, \"type\": \"barpolar\"}], \"carpet\": [{\"aaxis\": {\"endlinecolor\": \"rgb(36,36,36)\", \"gridcolor\": \"white\", \"linecolor\": \"white\", \"minorgridcolor\": \"white\", \"startlinecolor\": \"rgb(36,36,36)\"}, \"baxis\": {\"endlinecolor\": \"rgb(36,36,36)\", \"gridcolor\": \"white\", \"linecolor\": \"white\", \"minorgridcolor\": \"white\", \"startlinecolor\": \"rgb(36,36,36)\"}, \"type\": \"carpet\"}], \"choropleth\": [{\"colorbar\": {\"outlinewidth\": 0, \"tickcolor\": \"rgb(36,36,36)\", \"ticklen\": 8, \"ticks\": \"outside\", \"tickwidth\": 2}, \"type\": \"choropleth\"}], \"contour\": [{\"colorbar\": {\"outlinewidth\": 0, \"tickcolor\": \"rgb(36,36,36)\", \"ticklen\": 8, \"ticks\": \"outside\", \"tickwidth\": 2}, \"colorscale\": [[0.0, \"rgb(2,4,25)\"], [0.06274509803921569, \"rgb(24,15,41)\"], [0.12549019607843137, \"rgb(47,23,57)\"], [0.18823529411764706, \"rgb(71,28,72)\"], [0.25098039215686274, \"rgb(97,30,82)\"], [0.3137254901960784, \"rgb(123,30,89)\"], [0.3764705882352941, \"rgb(150,27,91)\"], [0.4392156862745098, \"rgb(177,22,88)\"], [0.5019607843137255, \"rgb(203,26,79)\"], [0.5647058823529412, \"rgb(223,47,67)\"], [0.6274509803921569, \"rgb(236,76,61)\"], [0.6901960784313725, \"rgb(242,107,73)\"], [0.7529411764705882, \"rgb(244,135,95)\"], [0.8156862745098039, \"rgb(245,162,122)\"], [0.8784313725490196, \"rgb(246,188,153)\"], [0.9411764705882353, \"rgb(247,212,187)\"], [1.0, \"rgb(250,234,220)\"]], \"type\": \"contour\"}], \"contourcarpet\": [{\"colorbar\": {\"outlinewidth\": 0, \"tickcolor\": \"rgb(36,36,36)\", \"ticklen\": 8, \"ticks\": \"outside\", \"tickwidth\": 2}, \"type\": \"contourcarpet\"}], \"heatmap\": [{\"colorbar\": {\"outlinewidth\": 0, \"tickcolor\": \"rgb(36,36,36)\", \"ticklen\": 8, \"ticks\": \"outside\", \"tickwidth\": 2}, \"colorscale\": [[0.0, \"rgb(2,4,25)\"], [0.06274509803921569, \"rgb(24,15,41)\"], [0.12549019607843137, \"rgb(47,23,57)\"], [0.18823529411764706, \"rgb(71,28,72)\"], [0.25098039215686274, \"rgb(97,30,82)\"], [0.3137254901960784, \"rgb(123,30,89)\"], [0.3764705882352941, \"rgb(150,27,91)\"], [0.4392156862745098, \"rgb(177,22,88)\"], [0.5019607843137255, \"rgb(203,26,79)\"], [0.5647058823529412, \"rgb(223,47,67)\"], [0.6274509803921569, \"rgb(236,76,61)\"], [0.6901960784313725, \"rgb(242,107,73)\"], [0.7529411764705882, \"rgb(244,135,95)\"], [0.8156862745098039, \"rgb(245,162,122)\"], [0.8784313725490196, \"rgb(246,188,153)\"], [0.9411764705882353, \"rgb(247,212,187)\"], [1.0, \"rgb(250,234,220)\"]], \"type\": \"heatmap\"}], \"heatmapgl\": [{\"colorbar\": {\"outlinewidth\": 0, \"tickcolor\": \"rgb(36,36,36)\", \"ticklen\": 8, \"ticks\": \"outside\", \"tickwidth\": 2}, \"colorscale\": [[0.0, \"rgb(2,4,25)\"], [0.06274509803921569, \"rgb(24,15,41)\"], [0.12549019607843137, \"rgb(47,23,57)\"], [0.18823529411764706, \"rgb(71,28,72)\"], [0.25098039215686274, \"rgb(97,30,82)\"], [0.3137254901960784, \"rgb(123,30,89)\"], [0.3764705882352941, \"rgb(150,27,91)\"], [0.4392156862745098, \"rgb(177,22,88)\"], [0.5019607843137255, \"rgb(203,26,79)\"], [0.5647058823529412, \"rgb(223,47,67)\"], [0.6274509803921569, \"rgb(236,76,61)\"], [0.6901960784313725, \"rgb(242,107,73)\"], [0.7529411764705882, \"rgb(244,135,95)\"], [0.8156862745098039, \"rgb(245,162,122)\"], [0.8784313725490196, \"rgb(246,188,153)\"], [0.9411764705882353, \"rgb(247,212,187)\"], [1.0, \"rgb(250,234,220)\"]], \"type\": \"heatmapgl\"}], \"histogram\": [{\"marker\": {\"colorbar\": {\"outlinewidth\": 0, \"tickcolor\": \"rgb(36,36,36)\", \"ticklen\": 8, \"ticks\": \"outside\", \"tickwidth\": 2}}, \"type\": \"histogram\"}], \"histogram2d\": [{\"colorbar\": {\"outlinewidth\": 0, \"tickcolor\": \"rgb(36,36,36)\", \"ticklen\": 8, \"ticks\": \"outside\", \"tickwidth\": 2}, \"colorscale\": [[0.0, \"rgb(2,4,25)\"], [0.06274509803921569, \"rgb(24,15,41)\"], [0.12549019607843137, \"rgb(47,23,57)\"], [0.18823529411764706, \"rgb(71,28,72)\"], [0.25098039215686274, \"rgb(97,30,82)\"], [0.3137254901960784, \"rgb(123,30,89)\"], [0.3764705882352941, \"rgb(150,27,91)\"], [0.4392156862745098, \"rgb(177,22,88)\"], [0.5019607843137255, \"rgb(203,26,79)\"], [0.5647058823529412, \"rgb(223,47,67)\"], [0.6274509803921569, \"rgb(236,76,61)\"], [0.6901960784313725, \"rgb(242,107,73)\"], [0.7529411764705882, \"rgb(244,135,95)\"], [0.8156862745098039, \"rgb(245,162,122)\"], [0.8784313725490196, \"rgb(246,188,153)\"], [0.9411764705882353, \"rgb(247,212,187)\"], [1.0, \"rgb(250,234,220)\"]], \"type\": \"histogram2d\"}], \"histogram2dcontour\": [{\"colorbar\": {\"outlinewidth\": 0, \"tickcolor\": \"rgb(36,36,36)\", \"ticklen\": 8, \"ticks\": \"outside\", \"tickwidth\": 2}, \"colorscale\": [[0.0, \"rgb(2,4,25)\"], [0.06274509803921569, \"rgb(24,15,41)\"], [0.12549019607843137, \"rgb(47,23,57)\"], [0.18823529411764706, \"rgb(71,28,72)\"], [0.25098039215686274, \"rgb(97,30,82)\"], [0.3137254901960784, \"rgb(123,30,89)\"], [0.3764705882352941, \"rgb(150,27,91)\"], [0.4392156862745098, \"rgb(177,22,88)\"], [0.5019607843137255, \"rgb(203,26,79)\"], [0.5647058823529412, \"rgb(223,47,67)\"], [0.6274509803921569, \"rgb(236,76,61)\"], [0.6901960784313725, \"rgb(242,107,73)\"], [0.7529411764705882, \"rgb(244,135,95)\"], [0.8156862745098039, \"rgb(245,162,122)\"], [0.8784313725490196, \"rgb(246,188,153)\"], [0.9411764705882353, \"rgb(247,212,187)\"], [1.0, \"rgb(250,234,220)\"]], \"type\": \"histogram2dcontour\"}], \"mesh3d\": [{\"colorbar\": {\"outlinewidth\": 0, \"tickcolor\": \"rgb(36,36,36)\", \"ticklen\": 8, \"ticks\": \"outside\", \"tickwidth\": 2}, \"type\": \"mesh3d\"}], \"parcoords\": [{\"line\": {\"colorbar\": {\"outlinewidth\": 0, \"tickcolor\": \"rgb(36,36,36)\", \"ticklen\": 8, \"ticks\": \"outside\", \"tickwidth\": 2}}, \"type\": \"parcoords\"}], \"pie\": [{\"automargin\": true, \"type\": \"pie\"}], \"scatter\": [{\"marker\": {\"colorbar\": {\"outlinewidth\": 0, \"tickcolor\": \"rgb(36,36,36)\", \"ticklen\": 8, \"ticks\": \"outside\", \"tickwidth\": 2}}, \"type\": \"scatter\"}], \"scatter3d\": [{\"line\": {\"colorbar\": {\"outlinewidth\": 0, \"tickcolor\": \"rgb(36,36,36)\", \"ticklen\": 8, \"ticks\": \"outside\", \"tickwidth\": 2}}, \"marker\": {\"colorbar\": {\"outlinewidth\": 0, \"tickcolor\": \"rgb(36,36,36)\", \"ticklen\": 8, \"ticks\": \"outside\", \"tickwidth\": 2}}, \"type\": \"scatter3d\"}], \"scattercarpet\": [{\"marker\": {\"colorbar\": {\"outlinewidth\": 0, \"tickcolor\": \"rgb(36,36,36)\", \"ticklen\": 8, \"ticks\": \"outside\", \"tickwidth\": 2}}, \"type\": \"scattercarpet\"}], \"scattergeo\": [{\"marker\": {\"colorbar\": {\"outlinewidth\": 0, \"tickcolor\": \"rgb(36,36,36)\", \"ticklen\": 8, \"ticks\": \"outside\", \"tickwidth\": 2}}, \"type\": \"scattergeo\"}], \"scattergl\": [{\"marker\": {\"colorbar\": {\"outlinewidth\": 0, \"tickcolor\": \"rgb(36,36,36)\", \"ticklen\": 8, \"ticks\": \"outside\", \"tickwidth\": 2}}, \"type\": \"scattergl\"}], \"scattermapbox\": [{\"marker\": {\"colorbar\": {\"outlinewidth\": 0, \"tickcolor\": \"rgb(36,36,36)\", \"ticklen\": 8, \"ticks\": \"outside\", \"tickwidth\": 2}}, \"type\": \"scattermapbox\"}], \"scatterpolar\": [{\"marker\": {\"colorbar\": {\"outlinewidth\": 0, \"tickcolor\": \"rgb(36,36,36)\", \"ticklen\": 8, \"ticks\": \"outside\", \"tickwidth\": 2}}, \"type\": \"scatterpolar\"}], \"scatterpolargl\": [{\"marker\": {\"colorbar\": {\"outlinewidth\": 0, \"tickcolor\": \"rgb(36,36,36)\", \"ticklen\": 8, \"ticks\": \"outside\", \"tickwidth\": 2}}, \"type\": \"scatterpolargl\"}], \"scatterternary\": [{\"marker\": {\"colorbar\": {\"outlinewidth\": 0, \"tickcolor\": \"rgb(36,36,36)\", \"ticklen\": 8, \"ticks\": \"outside\", \"tickwidth\": 2}}, \"type\": \"scatterternary\"}], \"surface\": [{\"colorbar\": {\"outlinewidth\": 0, \"tickcolor\": \"rgb(36,36,36)\", \"ticklen\": 8, \"ticks\": \"outside\", \"tickwidth\": 2}, \"colorscale\": [[0.0, \"rgb(2,4,25)\"], [0.06274509803921569, \"rgb(24,15,41)\"], [0.12549019607843137, \"rgb(47,23,57)\"], [0.18823529411764706, \"rgb(71,28,72)\"], [0.25098039215686274, \"rgb(97,30,82)\"], [0.3137254901960784, \"rgb(123,30,89)\"], [0.3764705882352941, \"rgb(150,27,91)\"], [0.4392156862745098, \"rgb(177,22,88)\"], [0.5019607843137255, \"rgb(203,26,79)\"], [0.5647058823529412, \"rgb(223,47,67)\"], [0.6274509803921569, \"rgb(236,76,61)\"], [0.6901960784313725, \"rgb(242,107,73)\"], [0.7529411764705882, \"rgb(244,135,95)\"], [0.8156862745098039, \"rgb(245,162,122)\"], [0.8784313725490196, \"rgb(246,188,153)\"], [0.9411764705882353, \"rgb(247,212,187)\"], [1.0, \"rgb(250,234,220)\"]], \"type\": \"surface\"}], \"table\": [{\"cells\": {\"fill\": {\"color\": \"rgb(231,231,240)\"}, \"line\": {\"color\": \"white\"}}, \"header\": {\"fill\": {\"color\": \"rgb(183,183,191)\"}, \"line\": {\"color\": \"white\"}}, \"type\": \"table\"}]}, \"layout\": {\"annotationdefaults\": {\"arrowcolor\": \"rgb(67,103,167)\"}, \"coloraxis\": {\"colorbar\": {\"outlinewidth\": 0, \"tickcolor\": \"rgb(36,36,36)\", \"ticklen\": 8, \"ticks\": \"outside\", \"tickwidth\": 2}}, \"colorscale\": {\"sequential\": [[0.0, \"rgb(2,4,25)\"], [0.06274509803921569, \"rgb(24,15,41)\"], [0.12549019607843137, \"rgb(47,23,57)\"], [0.18823529411764706, \"rgb(71,28,72)\"], [0.25098039215686274, \"rgb(97,30,82)\"], [0.3137254901960784, \"rgb(123,30,89)\"], [0.3764705882352941, \"rgb(150,27,91)\"], [0.4392156862745098, \"rgb(177,22,88)\"], [0.5019607843137255, \"rgb(203,26,79)\"], [0.5647058823529412, \"rgb(223,47,67)\"], [0.6274509803921569, \"rgb(236,76,61)\"], [0.6901960784313725, \"rgb(242,107,73)\"], [0.7529411764705882, \"rgb(244,135,95)\"], [0.8156862745098039, \"rgb(245,162,122)\"], [0.8784313725490196, \"rgb(246,188,153)\"], [0.9411764705882353, \"rgb(247,212,187)\"], [1.0, \"rgb(250,234,220)\"]], \"sequentialminus\": [[0.0, \"rgb(2,4,25)\"], [0.06274509803921569, \"rgb(24,15,41)\"], [0.12549019607843137, \"rgb(47,23,57)\"], [0.18823529411764706, \"rgb(71,28,72)\"], [0.25098039215686274, \"rgb(97,30,82)\"], [0.3137254901960784, \"rgb(123,30,89)\"], [0.3764705882352941, \"rgb(150,27,91)\"], [0.4392156862745098, \"rgb(177,22,88)\"], [0.5019607843137255, \"rgb(203,26,79)\"], [0.5647058823529412, \"rgb(223,47,67)\"], [0.6274509803921569, \"rgb(236,76,61)\"], [0.6901960784313725, \"rgb(242,107,73)\"], [0.7529411764705882, \"rgb(244,135,95)\"], [0.8156862745098039, \"rgb(245,162,122)\"], [0.8784313725490196, \"rgb(246,188,153)\"], [0.9411764705882353, \"rgb(247,212,187)\"], [1.0, \"rgb(250,234,220)\"]]}, \"colorway\": [\"rgb(76,114,176)\", \"rgb(221,132,82)\", \"rgb(85,168,104)\", \"rgb(196,78,82)\", \"rgb(129,114,179)\", \"rgb(147,120,96)\", \"rgb(218,139,195)\", \"rgb(140,140,140)\", \"rgb(204,185,116)\", \"rgb(100,181,205)\"], \"font\": {\"color\": \"rgb(36,36,36)\"}, \"geo\": {\"bgcolor\": \"white\", \"lakecolor\": \"white\", \"landcolor\": \"rgb(234,234,242)\", \"showlakes\": true, \"showland\": true, \"subunitcolor\": \"white\"}, \"hoverlabel\": {\"align\": \"left\"}, \"hovermode\": \"closest\", \"paper_bgcolor\": \"white\", \"plot_bgcolor\": \"rgb(234,234,242)\", \"polar\": {\"angularaxis\": {\"gridcolor\": \"white\", \"linecolor\": \"white\", \"showgrid\": true, \"ticks\": \"\"}, \"bgcolor\": \"rgb(234,234,242)\", \"radialaxis\": {\"gridcolor\": \"white\", \"linecolor\": \"white\", \"showgrid\": true, \"ticks\": \"\"}}, \"scene\": {\"xaxis\": {\"backgroundcolor\": \"rgb(234,234,242)\", \"gridcolor\": \"white\", \"gridwidth\": 2, \"linecolor\": \"white\", \"showbackground\": true, \"showgrid\": true, \"ticks\": \"\", \"zerolinecolor\": \"white\"}, \"yaxis\": {\"backgroundcolor\": \"rgb(234,234,242)\", \"gridcolor\": \"white\", \"gridwidth\": 2, \"linecolor\": \"white\", \"showbackground\": true, \"showgrid\": true, \"ticks\": \"\", \"zerolinecolor\": \"white\"}, \"zaxis\": {\"backgroundcolor\": \"rgb(234,234,242)\", \"gridcolor\": \"white\", \"gridwidth\": 2, \"linecolor\": \"white\", \"showbackground\": true, \"showgrid\": true, \"ticks\": \"\", \"zerolinecolor\": \"white\"}}, \"shapedefaults\": {\"fillcolor\": \"rgb(67,103,167)\", \"line\": {\"width\": 0}, \"opacity\": 0.5}, \"ternary\": {\"aaxis\": {\"gridcolor\": \"white\", \"linecolor\": \"white\", \"showgrid\": true, \"ticks\": \"\"}, \"baxis\": {\"gridcolor\": \"white\", \"linecolor\": \"white\", \"showgrid\": true, \"ticks\": \"\"}, \"bgcolor\": \"rgb(234,234,242)\", \"caxis\": {\"gridcolor\": \"white\", \"linecolor\": \"white\", \"showgrid\": true, \"ticks\": \"\"}}, \"xaxis\": {\"automargin\": true, \"gridcolor\": \"white\", \"linecolor\": \"white\", \"showgrid\": true, \"ticks\": \"\", \"title\": {\"standoff\": 15}, \"zerolinecolor\": \"white\"}, \"yaxis\": {\"automargin\": true, \"gridcolor\": \"white\", \"linecolor\": \"white\", \"showgrid\": true, \"ticks\": \"\", \"title\": {\"standoff\": 15}, \"zerolinecolor\": \"white\"}}}, \"title\": {\"text\": \"Current state of patients\"}},\n",
              "                        {\"responsive\": true}\n",
              "                    ).then(function(){\n",
              "                            \n",
              "var gd = document.getElementById('99abada1-22a2-40e1-808c-5cda0c9fdc53');\n",
              "var x = new MutationObserver(function (mutations, observer) {{\n",
              "        var display = window.getComputedStyle(gd).display;\n",
              "        if (!display || display === 'none') {{\n",
              "            console.log([gd, 'removed!']);\n",
              "            Plotly.purge(gd);\n",
              "            observer.disconnect();\n",
              "        }}\n",
              "}});\n",
              "\n",
              "// Listen for the removal of the full notebook cells\n",
              "var notebookContainer = gd.closest('#notebook-container');\n",
              "if (notebookContainer) {{\n",
              "    x.observe(notebookContainer, {childList: true});\n",
              "}}\n",
              "\n",
              "// Listen for the clearing of the current output cell\n",
              "var outputEl = gd.closest('.output');\n",
              "if (outputEl) {{\n",
              "    x.observe(outputEl, {childList: true});\n",
              "}}\n",
              "\n",
              "                        })\n",
              "                };\n",
              "                \n",
              "            </script>\n",
              "        </div>\n",
              "</body>\n",
              "</html>"
            ]
          },
          "metadata": {
            "tags": []
          }
        }
      ]
    },
    {
      "cell_type": "markdown",
      "metadata": {
        "id": "VK6oCmT5Y6OX",
        "colab_type": "text"
      },
      "source": [
        "####People who were released"
      ]
    },
    {
      "cell_type": "code",
      "metadata": {
        "id": "5pDBHU9cYcf5",
        "colab_type": "code",
        "colab": {
          "base_uri": "https://localhost:8080/",
          "height": 348
        },
        "outputId": "7d71c2e3-3b13-4d04-80ff-b8c3b1a1217d"
      },
      "source": [
        "released = df_patient[df_patient.state == 'released']\n",
        "released.head()"
      ],
      "execution_count": 18,
      "outputs": [
        {
          "output_type": "execute_result",
          "data": {
            "text/html": [
              "<div>\n",
              "<style scoped>\n",
              "    .dataframe tbody tr th:only-of-type {\n",
              "        vertical-align: middle;\n",
              "    }\n",
              "\n",
              "    .dataframe tbody tr th {\n",
              "        vertical-align: top;\n",
              "    }\n",
              "\n",
              "    .dataframe thead th {\n",
              "        text-align: right;\n",
              "    }\n",
              "</style>\n",
              "<table border=\"1\" class=\"dataframe\">\n",
              "  <thead>\n",
              "    <tr style=\"text-align: right;\">\n",
              "      <th></th>\n",
              "      <th>id</th>\n",
              "      <th>sex</th>\n",
              "      <th>birth_year</th>\n",
              "      <th>country</th>\n",
              "      <th>region</th>\n",
              "      <th>group</th>\n",
              "      <th>infection_reason</th>\n",
              "      <th>infection_order</th>\n",
              "      <th>infected_by</th>\n",
              "      <th>contact_number</th>\n",
              "      <th>confirmed_date</th>\n",
              "      <th>released_date</th>\n",
              "      <th>deceased_date</th>\n",
              "      <th>state</th>\n",
              "      <th>age</th>\n",
              "      <th>age_range</th>\n",
              "      <th>time_to_release_since_confirmed</th>\n",
              "      <th>time_to_death_since_confirmed</th>\n",
              "      <th>duration_since_confirmed</th>\n",
              "      <th>duration_days</th>\n",
              "      <th>state_by_gender</th>\n",
              "    </tr>\n",
              "  </thead>\n",
              "  <tbody>\n",
              "    <tr>\n",
              "      <th>0</th>\n",
              "      <td>1.0</td>\n",
              "      <td>female</td>\n",
              "      <td>1984.0</td>\n",
              "      <td>China</td>\n",
              "      <td>filtered at airport</td>\n",
              "      <td>NaN</td>\n",
              "      <td>visit to Wuhan</td>\n",
              "      <td>1.0</td>\n",
              "      <td>NaN</td>\n",
              "      <td>45.0</td>\n",
              "      <td>2020-01-20</td>\n",
              "      <td>2020-02-06</td>\n",
              "      <td>NaT</td>\n",
              "      <td>released</td>\n",
              "      <td>36.0</td>\n",
              "      <td>30-39</td>\n",
              "      <td>17 days</td>\n",
              "      <td>NaT</td>\n",
              "      <td>17 days</td>\n",
              "      <td>17.0</td>\n",
              "      <td>released_female</td>\n",
              "    </tr>\n",
              "    <tr>\n",
              "      <th>1</th>\n",
              "      <td>2.0</td>\n",
              "      <td>male</td>\n",
              "      <td>1964.0</td>\n",
              "      <td>Korea</td>\n",
              "      <td>filtered at airport</td>\n",
              "      <td>NaN</td>\n",
              "      <td>visit to Wuhan</td>\n",
              "      <td>1.0</td>\n",
              "      <td>NaN</td>\n",
              "      <td>75.0</td>\n",
              "      <td>2020-01-24</td>\n",
              "      <td>2020-02-05</td>\n",
              "      <td>NaT</td>\n",
              "      <td>released</td>\n",
              "      <td>56.0</td>\n",
              "      <td>50-59</td>\n",
              "      <td>12 days</td>\n",
              "      <td>NaT</td>\n",
              "      <td>12 days</td>\n",
              "      <td>12.0</td>\n",
              "      <td>released_male</td>\n",
              "    </tr>\n",
              "    <tr>\n",
              "      <th>2</th>\n",
              "      <td>3.0</td>\n",
              "      <td>male</td>\n",
              "      <td>1966.0</td>\n",
              "      <td>Korea</td>\n",
              "      <td>capital area</td>\n",
              "      <td>NaN</td>\n",
              "      <td>visit to Wuhan</td>\n",
              "      <td>1.0</td>\n",
              "      <td>NaN</td>\n",
              "      <td>16.0</td>\n",
              "      <td>2020-01-26</td>\n",
              "      <td>2020-02-12</td>\n",
              "      <td>NaT</td>\n",
              "      <td>released</td>\n",
              "      <td>54.0</td>\n",
              "      <td>50-59</td>\n",
              "      <td>17 days</td>\n",
              "      <td>NaT</td>\n",
              "      <td>17 days</td>\n",
              "      <td>17.0</td>\n",
              "      <td>released_male</td>\n",
              "    </tr>\n",
              "    <tr>\n",
              "      <th>3</th>\n",
              "      <td>4.0</td>\n",
              "      <td>male</td>\n",
              "      <td>1964.0</td>\n",
              "      <td>Korea</td>\n",
              "      <td>capital area</td>\n",
              "      <td>NaN</td>\n",
              "      <td>visit to Wuhan</td>\n",
              "      <td>1.0</td>\n",
              "      <td>NaN</td>\n",
              "      <td>95.0</td>\n",
              "      <td>2020-01-27</td>\n",
              "      <td>2020-02-09</td>\n",
              "      <td>NaT</td>\n",
              "      <td>released</td>\n",
              "      <td>56.0</td>\n",
              "      <td>50-59</td>\n",
              "      <td>13 days</td>\n",
              "      <td>NaT</td>\n",
              "      <td>13 days</td>\n",
              "      <td>13.0</td>\n",
              "      <td>released_male</td>\n",
              "    </tr>\n",
              "    <tr>\n",
              "      <th>4</th>\n",
              "      <td>5.0</td>\n",
              "      <td>male</td>\n",
              "      <td>1987.0</td>\n",
              "      <td>Korea</td>\n",
              "      <td>capital area</td>\n",
              "      <td>NaN</td>\n",
              "      <td>visit to Wuhan</td>\n",
              "      <td>1.0</td>\n",
              "      <td>NaN</td>\n",
              "      <td>31.0</td>\n",
              "      <td>2020-01-30</td>\n",
              "      <td>2020-03-02</td>\n",
              "      <td>NaT</td>\n",
              "      <td>released</td>\n",
              "      <td>33.0</td>\n",
              "      <td>30-39</td>\n",
              "      <td>32 days</td>\n",
              "      <td>NaT</td>\n",
              "      <td>32 days</td>\n",
              "      <td>32.0</td>\n",
              "      <td>released_male</td>\n",
              "    </tr>\n",
              "  </tbody>\n",
              "</table>\n",
              "</div>"
            ],
            "text/plain": [
              "    id     sex  ...  duration_days  state_by_gender\n",
              "0  1.0  female  ...           17.0  released_female\n",
              "1  2.0    male  ...           12.0    released_male\n",
              "2  3.0    male  ...           17.0    released_male\n",
              "3  4.0    male  ...           13.0    released_male\n",
              "4  5.0    male  ...           32.0    released_male\n",
              "\n",
              "[5 rows x 21 columns]"
            ]
          },
          "metadata": {
            "tags": []
          },
          "execution_count": 18
        }
      ]
    },
    {
      "cell_type": "markdown",
      "metadata": {
        "id": "XF2Nx0emY9Kq",
        "colab_type": "text"
      },
      "source": [
        "####People who are isolated"
      ]
    },
    {
      "cell_type": "code",
      "metadata": {
        "id": "u-lzkhY0Yzkx",
        "colab_type": "code",
        "colab": {
          "base_uri": "https://localhost:8080/",
          "height": 313
        },
        "outputId": "f1fc1c75-11e6-457a-9a6b-b96e40f0dd8e"
      },
      "source": [
        "isolated_state = df_patient[df_patient.state == 'isolated']\n",
        "isolated_state.head()"
      ],
      "execution_count": 19,
      "outputs": [
        {
          "output_type": "execute_result",
          "data": {
            "text/html": [
              "<div>\n",
              "<style scoped>\n",
              "    .dataframe tbody tr th:only-of-type {\n",
              "        vertical-align: middle;\n",
              "    }\n",
              "\n",
              "    .dataframe tbody tr th {\n",
              "        vertical-align: top;\n",
              "    }\n",
              "\n",
              "    .dataframe thead th {\n",
              "        text-align: right;\n",
              "    }\n",
              "</style>\n",
              "<table border=\"1\" class=\"dataframe\">\n",
              "  <thead>\n",
              "    <tr style=\"text-align: right;\">\n",
              "      <th></th>\n",
              "      <th>id</th>\n",
              "      <th>sex</th>\n",
              "      <th>birth_year</th>\n",
              "      <th>country</th>\n",
              "      <th>region</th>\n",
              "      <th>group</th>\n",
              "      <th>infection_reason</th>\n",
              "      <th>infection_order</th>\n",
              "      <th>infected_by</th>\n",
              "      <th>contact_number</th>\n",
              "      <th>confirmed_date</th>\n",
              "      <th>released_date</th>\n",
              "      <th>deceased_date</th>\n",
              "      <th>state</th>\n",
              "      <th>age</th>\n",
              "      <th>age_range</th>\n",
              "      <th>time_to_release_since_confirmed</th>\n",
              "      <th>time_to_death_since_confirmed</th>\n",
              "      <th>duration_since_confirmed</th>\n",
              "      <th>duration_days</th>\n",
              "      <th>state_by_gender</th>\n",
              "    </tr>\n",
              "  </thead>\n",
              "  <tbody>\n",
              "    <tr>\n",
              "      <th>24</th>\n",
              "      <td>25.0</td>\n",
              "      <td>female</td>\n",
              "      <td>1946.0</td>\n",
              "      <td>Korea</td>\n",
              "      <td>capital area</td>\n",
              "      <td>NaN</td>\n",
              "      <td>contact with patient</td>\n",
              "      <td>2.0</td>\n",
              "      <td>27.0</td>\n",
              "      <td>12.0</td>\n",
              "      <td>2020-02-09</td>\n",
              "      <td>NaT</td>\n",
              "      <td>NaT</td>\n",
              "      <td>isolated</td>\n",
              "      <td>74.0</td>\n",
              "      <td>70-79</td>\n",
              "      <td>NaT</td>\n",
              "      <td>NaT</td>\n",
              "      <td>NaT</td>\n",
              "      <td>NaN</td>\n",
              "      <td>isolated_female</td>\n",
              "    </tr>\n",
              "    <tr>\n",
              "      <th>25</th>\n",
              "      <td>26.0</td>\n",
              "      <td>male</td>\n",
              "      <td>1968.0</td>\n",
              "      <td>Korea</td>\n",
              "      <td>capital area</td>\n",
              "      <td>NaN</td>\n",
              "      <td>contact with patient</td>\n",
              "      <td>1.0</td>\n",
              "      <td>27.0</td>\n",
              "      <td>0.0</td>\n",
              "      <td>2020-02-09</td>\n",
              "      <td>NaT</td>\n",
              "      <td>NaT</td>\n",
              "      <td>isolated</td>\n",
              "      <td>52.0</td>\n",
              "      <td>50-59</td>\n",
              "      <td>NaT</td>\n",
              "      <td>NaT</td>\n",
              "      <td>NaT</td>\n",
              "      <td>NaN</td>\n",
              "      <td>isolated_male</td>\n",
              "    </tr>\n",
              "    <tr>\n",
              "      <th>26</th>\n",
              "      <td>27.0</td>\n",
              "      <td>female</td>\n",
              "      <td>1982.0</td>\n",
              "      <td>China</td>\n",
              "      <td>capital area</td>\n",
              "      <td>NaN</td>\n",
              "      <td>visit to China</td>\n",
              "      <td>1.0</td>\n",
              "      <td>NaN</td>\n",
              "      <td>40.0</td>\n",
              "      <td>2020-02-09</td>\n",
              "      <td>NaT</td>\n",
              "      <td>NaT</td>\n",
              "      <td>isolated</td>\n",
              "      <td>38.0</td>\n",
              "      <td>30-39</td>\n",
              "      <td>NaT</td>\n",
              "      <td>NaT</td>\n",
              "      <td>NaT</td>\n",
              "      <td>NaN</td>\n",
              "      <td>isolated_female</td>\n",
              "    </tr>\n",
              "    <tr>\n",
              "      <th>28</th>\n",
              "      <td>29.0</td>\n",
              "      <td>male</td>\n",
              "      <td>1938.0</td>\n",
              "      <td>Korea</td>\n",
              "      <td>capital area</td>\n",
              "      <td>NaN</td>\n",
              "      <td>contact with patient</td>\n",
              "      <td>4.0</td>\n",
              "      <td>83.0</td>\n",
              "      <td>117.0</td>\n",
              "      <td>2020-02-16</td>\n",
              "      <td>NaT</td>\n",
              "      <td>NaT</td>\n",
              "      <td>isolated</td>\n",
              "      <td>82.0</td>\n",
              "      <td>80-89</td>\n",
              "      <td>NaT</td>\n",
              "      <td>NaT</td>\n",
              "      <td>NaT</td>\n",
              "      <td>NaN</td>\n",
              "      <td>isolated_male</td>\n",
              "    </tr>\n",
              "    <tr>\n",
              "      <th>29</th>\n",
              "      <td>30.0</td>\n",
              "      <td>female</td>\n",
              "      <td>1952.0</td>\n",
              "      <td>Korea</td>\n",
              "      <td>capital area</td>\n",
              "      <td>NaN</td>\n",
              "      <td>contact with patient</td>\n",
              "      <td>5.0</td>\n",
              "      <td>29.0</td>\n",
              "      <td>27.0</td>\n",
              "      <td>2020-02-16</td>\n",
              "      <td>NaT</td>\n",
              "      <td>NaT</td>\n",
              "      <td>isolated</td>\n",
              "      <td>68.0</td>\n",
              "      <td>60-69</td>\n",
              "      <td>NaT</td>\n",
              "      <td>NaT</td>\n",
              "      <td>NaT</td>\n",
              "      <td>NaN</td>\n",
              "      <td>isolated_female</td>\n",
              "    </tr>\n",
              "  </tbody>\n",
              "</table>\n",
              "</div>"
            ],
            "text/plain": [
              "      id     sex  ...  duration_days  state_by_gender\n",
              "24  25.0  female  ...            NaN  isolated_female\n",
              "25  26.0    male  ...            NaN    isolated_male\n",
              "26  27.0  female  ...            NaN  isolated_female\n",
              "28  29.0    male  ...            NaN    isolated_male\n",
              "29  30.0  female  ...            NaN  isolated_female\n",
              "\n",
              "[5 rows x 21 columns]"
            ]
          },
          "metadata": {
            "tags": []
          },
          "execution_count": 19
        }
      ]
    },
    {
      "cell_type": "markdown",
      "metadata": {
        "id": "IGSJixHeZEg1",
        "colab_type": "text"
      },
      "source": [
        "####Patient who died"
      ]
    },
    {
      "cell_type": "code",
      "metadata": {
        "id": "Z9KG0ec_ZBQz",
        "colab_type": "code",
        "colab": {
          "base_uri": "https://localhost:8080/",
          "height": 365
        },
        "outputId": "f8cd0b7a-5053-45ee-96b1-dc1b3e2e8e52"
      },
      "source": [
        "dead = df_patient[df_patient.state == 'deceased']\n",
        "dead.head()"
      ],
      "execution_count": 20,
      "outputs": [
        {
          "output_type": "execute_result",
          "data": {
            "text/html": [
              "<div>\n",
              "<style scoped>\n",
              "    .dataframe tbody tr th:only-of-type {\n",
              "        vertical-align: middle;\n",
              "    }\n",
              "\n",
              "    .dataframe tbody tr th {\n",
              "        vertical-align: top;\n",
              "    }\n",
              "\n",
              "    .dataframe thead th {\n",
              "        text-align: right;\n",
              "    }\n",
              "</style>\n",
              "<table border=\"1\" class=\"dataframe\">\n",
              "  <thead>\n",
              "    <tr style=\"text-align: right;\">\n",
              "      <th></th>\n",
              "      <th>id</th>\n",
              "      <th>sex</th>\n",
              "      <th>birth_year</th>\n",
              "      <th>country</th>\n",
              "      <th>region</th>\n",
              "      <th>group</th>\n",
              "      <th>infection_reason</th>\n",
              "      <th>infection_order</th>\n",
              "      <th>infected_by</th>\n",
              "      <th>contact_number</th>\n",
              "      <th>confirmed_date</th>\n",
              "      <th>released_date</th>\n",
              "      <th>deceased_date</th>\n",
              "      <th>state</th>\n",
              "      <th>age</th>\n",
              "      <th>age_range</th>\n",
              "      <th>time_to_release_since_confirmed</th>\n",
              "      <th>time_to_death_since_confirmed</th>\n",
              "      <th>duration_since_confirmed</th>\n",
              "      <th>duration_days</th>\n",
              "      <th>state_by_gender</th>\n",
              "    </tr>\n",
              "  </thead>\n",
              "  <tbody>\n",
              "    <tr>\n",
              "      <th>37</th>\n",
              "      <td>38.0</td>\n",
              "      <td>female</td>\n",
              "      <td>1963.0</td>\n",
              "      <td>Korea</td>\n",
              "      <td>Daegu</td>\n",
              "      <td>NaN</td>\n",
              "      <td>NaN</td>\n",
              "      <td>NaN</td>\n",
              "      <td>NaN</td>\n",
              "      <td>NaN</td>\n",
              "      <td>2020-02-18</td>\n",
              "      <td>NaT</td>\n",
              "      <td>2020-02-23</td>\n",
              "      <td>deceased</td>\n",
              "      <td>57.0</td>\n",
              "      <td>50-59</td>\n",
              "      <td>NaT</td>\n",
              "      <td>5 days</td>\n",
              "      <td>5 days</td>\n",
              "      <td>5.0</td>\n",
              "      <td>deceased_female</td>\n",
              "    </tr>\n",
              "    <tr>\n",
              "      <th>53</th>\n",
              "      <td>54.0</td>\n",
              "      <td>male</td>\n",
              "      <td>1963.0</td>\n",
              "      <td>Korea</td>\n",
              "      <td>Gyeongsangbuk-do</td>\n",
              "      <td>Cheongdo Daenam Hospital</td>\n",
              "      <td>NaN</td>\n",
              "      <td>NaN</td>\n",
              "      <td>NaN</td>\n",
              "      <td>NaN</td>\n",
              "      <td>2020-02-19</td>\n",
              "      <td>NaT</td>\n",
              "      <td>2020-02-23</td>\n",
              "      <td>deceased</td>\n",
              "      <td>57.0</td>\n",
              "      <td>50-59</td>\n",
              "      <td>NaT</td>\n",
              "      <td>4 days</td>\n",
              "      <td>4 days</td>\n",
              "      <td>4.0</td>\n",
              "      <td>deceased_male</td>\n",
              "    </tr>\n",
              "    <tr>\n",
              "      <th>54</th>\n",
              "      <td>55.0</td>\n",
              "      <td>male</td>\n",
              "      <td>1961.0</td>\n",
              "      <td>Korea</td>\n",
              "      <td>Gyeongsangbuk-do</td>\n",
              "      <td>Cheongdo Daenam Hospital</td>\n",
              "      <td>NaN</td>\n",
              "      <td>NaN</td>\n",
              "      <td>NaN</td>\n",
              "      <td>NaN</td>\n",
              "      <td>2020-02-19</td>\n",
              "      <td>NaT</td>\n",
              "      <td>2020-02-23</td>\n",
              "      <td>deceased</td>\n",
              "      <td>59.0</td>\n",
              "      <td>50-59</td>\n",
              "      <td>NaT</td>\n",
              "      <td>4 days</td>\n",
              "      <td>4 days</td>\n",
              "      <td>4.0</td>\n",
              "      <td>deceased_male</td>\n",
              "    </tr>\n",
              "    <tr>\n",
              "      <th>103</th>\n",
              "      <td>104.0</td>\n",
              "      <td>male</td>\n",
              "      <td>1957.0</td>\n",
              "      <td>Korea</td>\n",
              "      <td>Gyeongsangbuk-do</td>\n",
              "      <td>Cheongdo Daenam Hospital</td>\n",
              "      <td>NaN</td>\n",
              "      <td>NaN</td>\n",
              "      <td>NaN</td>\n",
              "      <td>NaN</td>\n",
              "      <td>2020-02-20</td>\n",
              "      <td>NaT</td>\n",
              "      <td>2020-02-19</td>\n",
              "      <td>deceased</td>\n",
              "      <td>63.0</td>\n",
              "      <td>60-69</td>\n",
              "      <td>NaT</td>\n",
              "      <td>-1 days</td>\n",
              "      <td>-1 days</td>\n",
              "      <td>-1.0</td>\n",
              "      <td>deceased_male</td>\n",
              "    </tr>\n",
              "    <tr>\n",
              "      <th>106</th>\n",
              "      <td>107.0</td>\n",
              "      <td>male</td>\n",
              "      <td>1953.0</td>\n",
              "      <td>Korea</td>\n",
              "      <td>Gyeongsangbuk-do</td>\n",
              "      <td>Cheongdo Daenam Hospital</td>\n",
              "      <td>NaN</td>\n",
              "      <td>NaN</td>\n",
              "      <td>NaN</td>\n",
              "      <td>NaN</td>\n",
              "      <td>2020-02-21</td>\n",
              "      <td>NaT</td>\n",
              "      <td>2020-02-24</td>\n",
              "      <td>deceased</td>\n",
              "      <td>67.0</td>\n",
              "      <td>60-69</td>\n",
              "      <td>NaT</td>\n",
              "      <td>3 days</td>\n",
              "      <td>3 days</td>\n",
              "      <td>3.0</td>\n",
              "      <td>deceased_male</td>\n",
              "    </tr>\n",
              "  </tbody>\n",
              "</table>\n",
              "</div>"
            ],
            "text/plain": [
              "        id     sex  ...  duration_days  state_by_gender\n",
              "37    38.0  female  ...            5.0  deceased_female\n",
              "53    54.0    male  ...            4.0    deceased_male\n",
              "54    55.0    male  ...            4.0    deceased_male\n",
              "103  104.0    male  ...           -1.0    deceased_male\n",
              "106  107.0    male  ...            3.0    deceased_male\n",
              "\n",
              "[5 rows x 21 columns]"
            ]
          },
          "metadata": {
            "tags": []
          },
          "execution_count": 20
        }
      ]
    },
    {
      "cell_type": "code",
      "metadata": {
        "id": "uXXWn5iLZGWM",
        "colab_type": "code",
        "colab": {
          "base_uri": "https://localhost:8080/",
          "height": 407
        },
        "outputId": "5e6cba67-9cc7-494c-ae7f-92011215c79d"
      },
      "source": [
        "plt.figure(figsize=(10,6))\n",
        "sns.set_style(\"darkgrid\")\n",
        "plt.title(\"Age distribution of the released\")\n",
        "sns.kdeplot(data=released['age'], shade=True)"
      ],
      "execution_count": 21,
      "outputs": [
        {
          "output_type": "execute_result",
          "data": {
            "text/plain": [
              "<matplotlib.axes._subplots.AxesSubplot at 0x7fe7dd079ba8>"
            ]
          },
          "metadata": {
            "tags": []
          },
          "execution_count": 21
        },
        {
          "output_type": "display_data",
          "data": {
            "image/png": "[encoded data removed]",
            "text/plain": [
              "<Figure size 720x432 with 1 Axes>"
            ]
          },
          "metadata": {
            "tags": []
          }
        }
      ]
    },
    {
      "cell_type": "markdown",
      "metadata": {
        "id": "T-C0hzcfZKlm",
        "colab_type": "text"
      },
      "source": [
        "####Age distribution"
      ]
    },
    {
      "cell_type": "code",
      "metadata": {
        "id": "zqf0owsTZIZ9",
        "colab_type": "code",
        "colab": {
          "base_uri": "https://localhost:8080/",
          "height": 407
        },
        "outputId": "013b626c-bce5-4348-a1ce-e8ef4591bdd0"
      },
      "source": [
        "plt.figure(figsize=(10,6))\n",
        "sns.set_style(\"darkgrid\")\n",
        "plt.title(\"Age distribution of the isolated\")\n",
        "sns.kdeplot(data=isolated_state['age'], shade=True)"
      ],
      "execution_count": 22,
      "outputs": [
        {
          "output_type": "execute_result",
          "data": {
            "text/plain": [
              "<matplotlib.axes._subplots.AxesSubplot at 0x7fe7dd742e80>"
            ]
          },
          "metadata": {
            "tags": []
          },
          "execution_count": 22
        },
        {
          "output_type": "display_data",
          "data": {
            "image/png": "[encoded data removed]",
            "text/plain": [
              "<Figure size 720x432 with 1 Axes>"
            ]
          },
          "metadata": {
            "tags": []
          }
        }
      ]
    },
    {
      "cell_type": "markdown",
      "metadata": {
        "id": "FTE64KfxZRVy",
        "colab_type": "text"
      },
      "source": [
        "####Distribution of death with respect to age"
      ]
    },
    {
      "cell_type": "code",
      "metadata": {
        "id": "MWFgGctLZMnN",
        "colab_type": "code",
        "colab": {
          "base_uri": "https://localhost:8080/",
          "height": 407
        },
        "outputId": "d37219ec-4844-4de0-e4a0-785917d433fd"
      },
      "source": [
        "plt.figure(figsize=(10,6))\n",
        "sns.set_style(\"darkgrid\")\n",
        "plt.title(\"Age distribution of the deceased\")\n",
        "sns.kdeplot(data=dead['age'], shade=True)"
      ],
      "execution_count": 23,
      "outputs": [
        {
          "output_type": "execute_result",
          "data": {
            "text/plain": [
              "<matplotlib.axes._subplots.AxesSubplot at 0x7fe7dcf58278>"
            ]
          },
          "metadata": {
            "tags": []
          },
          "execution_count": 23
        },
        {
          "output_type": "display_data",
          "data": {
            "image/png": "[encoded data removed]",
            "text/plain": [
              "<Figure size 720x432 with 1 Axes>"
            ]
          },
          "metadata": {
            "tags": []
          }
        }
      ]
    },
    {
      "cell_type": "code",
      "metadata": {
        "id": "bMDLtM3kZV3j",
        "colab_type": "code",
        "colab": {}
      },
      "source": [
        "male_dead = dead[dead.sex=='male']\n",
        "female_dead = dead[dead.sex=='female']"
      ],
      "execution_count": 0,
      "outputs": []
    },
    {
      "cell_type": "markdown",
      "metadata": {
        "id": "5OEAukMFZdqS",
        "colab_type": "text"
      },
      "source": [
        "####Distribution of death by age and gender"
      ]
    },
    {
      "cell_type": "code",
      "metadata": {
        "id": "41s6uYGHZZzI",
        "colab_type": "code",
        "colab": {
          "base_uri": "https://localhost:8080/",
          "height": 407
        },
        "outputId": "3ba8ba31-27e1-410f-b899-e7acc9190af4"
      },
      "source": [
        "plt.figure(figsize=(10,6))\n",
        "sns.set_style(\"darkgrid\")\n",
        "plt.title(\"Age distribution of the deceased by gender\")\n",
        "sns.kdeplot(data=female_dead['age'], label=\"Women\", shade=True)\n",
        "sns.kdeplot(data=male_dead['age'],label=\"Male\" ,shade=True)"
      ],
      "execution_count": 25,
      "outputs": [
        {
          "output_type": "execute_result",
          "data": {
            "text/plain": [
              "<matplotlib.axes._subplots.AxesSubplot at 0x7fe7dceba668>"
            ]
          },
          "metadata": {
            "tags": []
          },
          "execution_count": 25
        },
        {
          "output_type": "display_data",
          "data": {
            "image/png": "[encoded data removed]",
            "text/plain": [
              "<Figure size 720x432 with 1 Axes>"
            ]
          },
          "metadata": {
            "tags": []
          }
        }
      ]
    },
    {
      "cell_type": "code",
      "metadata": {
        "id": "ydGJh5u9Zgy5",
        "colab_type": "code",
        "colab": {
          "base_uri": "https://localhost:8080/",
          "height": 530
        },
        "outputId": "618170f7-398a-4eda-c605-bc81c9df9780"
      },
      "source": [
        "plt.figure(figsize=(10,8))\n",
        "sns.set_style(\"darkgrid\")\n",
        "sns.distplot(a=male_dead['age'], label=\"Men\", kde=False)\n",
        "sns.distplot(a=female_dead['age'], label=\"Women\", kde=False)\n",
        "plt.title(\"Age distribution of the deceased by sex\")\n",
        "plt.legend()\n"
      ],
      "execution_count": 26,
      "outputs": [
        {
          "output_type": "execute_result",
          "data": {
            "text/plain": [
              "<matplotlib.legend.Legend at 0x7fe7dce570f0>"
            ]
          },
          "metadata": {
            "tags": []
          },
          "execution_count": 26
        },
        {
          "output_type": "display_data",
          "data": {
            "image/png": "[encoded data removed]",
            "text/plain": [
              "<Figure size 720x576 with 1 Axes>"
            ]
          },
          "metadata": {
            "tags": []
          }
        }
      ]
    },
    {
      "cell_type": "code",
      "metadata": {
        "id": "yRFMdMb-ZjzH",
        "colab_type": "code",
        "colab": {
          "base_uri": "https://localhost:8080/",
          "height": 285
        },
        "outputId": "5d50ca0d-aaa0-4f81-9bd6-d05f7d5b72e0"
      },
      "source": [
        "sns.kdeplot(data=dead['age'],label='deceased', shade=True)\n",
        "sns.kdeplot(data=released['age'],label='released', shade=True)\n",
        "sns.kdeplot(data=isolated_state['age'],label='released', shade=True)"
      ],
      "execution_count": 27,
      "outputs": [
        {
          "output_type": "execute_result",
          "data": {
            "text/plain": [
              "<matplotlib.axes._subplots.AxesSubplot at 0x7fe7dcdc2048>"
            ]
          },
          "metadata": {
            "tags": []
          },
          "execution_count": 27
        },
        {
          "output_type": "display_data",
          "data": {
            "image/png": "[encoded data removed]",
            "text/plain": [
              "<Figure size 432x288 with 1 Axes>"
            ]
          },
          "metadata": {
            "tags": []
          }
        }
      ]
    },
    {
      "cell_type": "markdown",
      "metadata": {
        "id": "22MxkN2uZp6T",
        "colab_type": "text"
      },
      "source": [
        "####Death by gender"
      ]
    },
    {
      "cell_type": "code",
      "metadata": {
        "id": "hD6JA3lrZmgZ",
        "colab_type": "code",
        "colab": {
          "base_uri": "https://localhost:8080/",
          "height": 360
        },
        "outputId": "1c04c0a8-a9e0-449d-eb9f-d902d23b6a0c"
      },
      "source": [
        "plt.figure(figsize=(15, 5))\n",
        "plt.title('Sex')\n",
        "dead.sex.value_counts().plot.bar();"
      ],
      "execution_count": 28,
      "outputs": [
        {
          "output_type": "display_data",
          "data": {
            "image/png": "[encoded data removed]",
            "text/plain": [
              "<Figure size 1080x360 with 1 Axes>"
            ]
          },
          "metadata": {
            "tags": []
          }
        }
      ]
    },
    {
      "cell_type": "markdown",
      "metadata": {
        "id": "mTUm8E81ZuH4",
        "colab_type": "text"
      },
      "source": [
        "####Infection cause\n"
      ]
    },
    {
      "cell_type": "code",
      "metadata": {
        "id": "3rEIlI1-ZrWr",
        "colab_type": "code",
        "colab": {
          "base_uri": "https://localhost:8080/",
          "height": 502
        },
        "outputId": "a29fbf6b-8837-4e6f-fe74-8027ddf3168d"
      },
      "source": [
        "plt.figure(figsize=(15,5))\n",
        "plt.title('Infection reason')\n",
        "df_patient.infection_reason.value_counts().plot.bar();"
      ],
      "execution_count": 29,
      "outputs": [
        {
          "output_type": "display_data",
          "data": {
            "image/png": "[encoded data removed]",
            "text/plain": [
              "<Figure size 1080x360 with 1 Axes>"
            ]
          },
          "metadata": {
            "tags": []
          }
        }
      ]
    },
    {
      "cell_type": "markdown",
      "metadata": {
        "id": "wKWz_wizZxni",
        "colab_type": "text"
      },
      "source": [
        "####State"
      ]
    },
    {
      "cell_type": "code",
      "metadata": {
        "id": "TXZsnhi7ZvdT",
        "colab_type": "code",
        "colab": {
          "base_uri": "https://localhost:8080/",
          "height": 356
        },
        "outputId": "3b76a196-135f-4aba-aebb-37ba632699df"
      },
      "source": [
        "sns.set(rc={'figure.figsize':(5,5)})\n",
        "sns.countplot(x=df_patient['state'].loc[\n",
        "    (df_patient['infection_reason']=='contact with patient')\n",
        "])"
      ],
      "execution_count": 30,
      "outputs": [
        {
          "output_type": "execute_result",
          "data": {
            "text/plain": [
              "<matplotlib.axes._subplots.AxesSubplot at 0x7fe7dcd1be80>"
            ]
          },
          "metadata": {
            "tags": []
          },
          "execution_count": 30
        },
        {
          "output_type": "display_data",
          "data": {
            "image/png": "[encoded data removed]",
            "text/plain": [
              "<Figure size 360x360 with 1 Axes>"
            ]
          },
          "metadata": {
            "tags": []
          }
        }
      ]
    },
    {
      "cell_type": "markdown",
      "metadata": {
        "id": "mBEhoeLZZ1sy",
        "colab_type": "text"
      },
      "source": [
        "####Male patients"
      ]
    },
    {
      "cell_type": "code",
      "metadata": {
        "id": "jst-XOu7Zy9r",
        "colab_type": "code",
        "colab": {
          "base_uri": "https://localhost:8080/",
          "height": 356
        },
        "outputId": "1cc7fa7d-a463-4dbb-8593-416b1a5b218b"
      },
      "source": [
        "sns.set(rc={'figure.figsize':(5,5)})\n",
        "sns.countplot(x=df_patient['state'].loc[(df_patient['sex']==\"male\")])"
      ],
      "execution_count": 31,
      "outputs": [
        {
          "output_type": "execute_result",
          "data": {
            "text/plain": [
              "<matplotlib.axes._subplots.AxesSubplot at 0x7fe7dcc6c7b8>"
            ]
          },
          "metadata": {
            "tags": []
          },
          "execution_count": 31
        },
        {
          "output_type": "display_data",
          "data": {
            "image/png": "[encoded data removed]",
            "text/plain": [
              "<Figure size 360x360 with 1 Axes>"
            ]
          },
          "metadata": {
            "tags": []
          }
        }
      ]
    },
    {
      "cell_type": "markdown",
      "metadata": {
        "id": "iarP3p3GZ5U6",
        "colab_type": "text"
      },
      "source": [
        "####Female"
      ]
    },
    {
      "cell_type": "code",
      "metadata": {
        "id": "mQoRRF_OZ3OO",
        "colab_type": "code",
        "colab": {
          "base_uri": "https://localhost:8080/",
          "height": 356
        },
        "outputId": "3b0f9ef2-e17f-43f5-a982-d0835184e2eb"
      },
      "source": [
        "sns.set(rc={'figure.figsize':(5,5)})\n",
        "sns.countplot(x=df_patient['state'].loc[(df_patient['sex']==\"female\")])"
      ],
      "execution_count": 32,
      "outputs": [
        {
          "output_type": "execute_result",
          "data": {
            "text/plain": [
              "<matplotlib.axes._subplots.AxesSubplot at 0x7fe7dcbfff98>"
            ]
          },
          "metadata": {
            "tags": []
          },
          "execution_count": 32
        },
        {
          "output_type": "display_data",
          "data": {
            "image/png": "[encoded data removed]",
            "text/plain": [
              "<Figure size 360x360 with 1 Axes>"
            ]
          },
          "metadata": {
            "tags": []
          }
        }
      ]
    },
    {
      "cell_type": "code",
      "metadata": {
        "id": "Kn1YWfc2Z6ZF",
        "colab_type": "code",
        "colab": {
          "base_uri": "https://localhost:8080/",
          "height": 525
        },
        "outputId": "cae607af-6c4b-43af-a2bc-1d501bbb529b"
      },
      "source": [
        "age_gender_hue_order =[\"isolated_female\", \"released_female\", \"deceased_female\",\n",
        "                       \"isolated_male\", \"released_male\", \"deceased_male\"]\n",
        "custom_palette = sns.color_palette(\"Reds\")[3:6] + sns.color_palette(\"Blues\")[2:5]\n",
        "\n",
        "plt.figure(figsize=(12, 8))\n",
        "sns.countplot(x = \"age_range\",\n",
        "              hue=\"state_by_gender\",\n",
        "              order=age_ranges,\n",
        "              hue_order=age_gender_hue_order,\n",
        "              palette=custom_palette,\n",
        "              data=patient)\n",
        "plt.title(\"State by gender and age\", fontsize=16)\n",
        "plt.xlabel(\"Age range\", fontsize=16)\n",
        "plt.ylabel(\"Count\", fontsize=16)\n",
        "plt.xticks(fontsize=12)\n",
        "plt.yticks(fontsize=12)\n",
        "plt.legend(loc=\"upper right\")\n",
        "plt.show()"
      ],
      "execution_count": 33,
      "outputs": [
        {
          "output_type": "display_data",
          "data": {
            "image/png": "[encoded data removed]",
            "text/plain": [
              "<Figure size 864x576 with 1 Axes>"
            ]
          },
          "metadata": {
            "tags": []
          }
        }
      ]
    },
    {
      "cell_type": "code",
      "metadata": {
        "id": "e2v7UFUyZ8YU",
        "colab_type": "code",
        "colab": {
          "base_uri": "https://localhost:8080/",
          "height": 206
        },
        "outputId": "9c5de442-bc18-4466-a235-e0d39c59ad59"
      },
      "source": [
        "df_route.head()"
      ],
      "execution_count": 34,
      "outputs": [
        {
          "output_type": "execute_result",
          "data": {
            "text/html": [
              "<div>\n",
              "<style scoped>\n",
              "    .dataframe tbody tr th:only-of-type {\n",
              "        vertical-align: middle;\n",
              "    }\n",
              "\n",
              "    .dataframe tbody tr th {\n",
              "        vertical-align: top;\n",
              "    }\n",
              "\n",
              "    .dataframe thead th {\n",
              "        text-align: right;\n",
              "    }\n",
              "</style>\n",
              "<table border=\"1\" class=\"dataframe\">\n",
              "  <thead>\n",
              "    <tr style=\"text-align: right;\">\n",
              "      <th></th>\n",
              "      <th>id</th>\n",
              "      <th>date</th>\n",
              "      <th>province</th>\n",
              "      <th>city</th>\n",
              "      <th>visit</th>\n",
              "      <th>latitude</th>\n",
              "      <th>longitude</th>\n",
              "    </tr>\n",
              "  </thead>\n",
              "  <tbody>\n",
              "    <tr>\n",
              "      <th>0</th>\n",
              "      <td>1</td>\n",
              "      <td>2020-01-19</td>\n",
              "      <td>Incheon</td>\n",
              "      <td>Jung-gu</td>\n",
              "      <td>airport</td>\n",
              "      <td>37.460459</td>\n",
              "      <td>126.440680</td>\n",
              "    </tr>\n",
              "    <tr>\n",
              "      <th>1</th>\n",
              "      <td>1</td>\n",
              "      <td>2020-01-20</td>\n",
              "      <td>Incheon</td>\n",
              "      <td>Seo-gu</td>\n",
              "      <td>hospital_isolated</td>\n",
              "      <td>37.478832</td>\n",
              "      <td>126.668558</td>\n",
              "    </tr>\n",
              "    <tr>\n",
              "      <th>2</th>\n",
              "      <td>2</td>\n",
              "      <td>2020-01-22</td>\n",
              "      <td>Gyeonggi-do</td>\n",
              "      <td>Gimpo-si</td>\n",
              "      <td>airport</td>\n",
              "      <td>37.562143</td>\n",
              "      <td>126.801884</td>\n",
              "    </tr>\n",
              "    <tr>\n",
              "      <th>3</th>\n",
              "      <td>2</td>\n",
              "      <td>2020-01-23</td>\n",
              "      <td>Seoul</td>\n",
              "      <td>Jung-gu</td>\n",
              "      <td>hospital_isolated</td>\n",
              "      <td>37.567454</td>\n",
              "      <td>127.005627</td>\n",
              "    </tr>\n",
              "    <tr>\n",
              "      <th>4</th>\n",
              "      <td>3</td>\n",
              "      <td>2020-01-20</td>\n",
              "      <td>Incheon</td>\n",
              "      <td>Jung-gu</td>\n",
              "      <td>airport</td>\n",
              "      <td>37.460459</td>\n",
              "      <td>126.440680</td>\n",
              "    </tr>\n",
              "  </tbody>\n",
              "</table>\n",
              "</div>"
            ],
            "text/plain": [
              "   id        date     province  ...              visit   latitude   longitude\n",
              "0   1  2020-01-19      Incheon  ...            airport  37.460459  126.440680\n",
              "1   1  2020-01-20      Incheon  ...  hospital_isolated  37.478832  126.668558\n",
              "2   2  2020-01-22  Gyeonggi-do  ...            airport  37.562143  126.801884\n",
              "3   2  2020-01-23        Seoul  ...  hospital_isolated  37.567454  127.005627\n",
              "4   3  2020-01-20      Incheon  ...            airport  37.460459  126.440680\n",
              "\n",
              "[5 rows x 7 columns]"
            ]
          },
          "metadata": {
            "tags": []
          },
          "execution_count": 34
        }
      ]
    },
    {
      "cell_type": "markdown",
      "metadata": {
        "id": "NR3s-26xaB4R",
        "colab_type": "text"
      },
      "source": [
        "Checking if any null value"
      ]
    },
    {
      "cell_type": "code",
      "metadata": {
        "id": "UIDAjCy_Z-8X",
        "colab_type": "code",
        "colab": {
          "base_uri": "https://localhost:8080/",
          "height": 156
        },
        "outputId": "665c1608-d3bf-4c6e-cbff-1eb324e68932"
      },
      "source": [
        "df_route.isna().sum()"
      ],
      "execution_count": 35,
      "outputs": [
        {
          "output_type": "execute_result",
          "data": {
            "text/plain": [
              "id           0\n",
              "date         0\n",
              "province     0\n",
              "city         0\n",
              "visit        0\n",
              "latitude     0\n",
              "longitude    0\n",
              "dtype: int64"
            ]
          },
          "metadata": {
            "tags": []
          },
          "execution_count": 35
        }
      ]
    },
    {
      "cell_type": "code",
      "metadata": {
        "id": "bguzI3y6aD3I",
        "colab_type": "code",
        "colab": {
          "base_uri": "https://localhost:8080/",
          "height": 363
        },
        "outputId": "c64a8354-1359-4120-f9ff-5a5e0767883e"
      },
      "source": [
        "clus=df_route.loc[:,['id','latitude','longitude']]\n",
        "clus.head(10)"
      ],
      "execution_count": 36,
      "outputs": [
        {
          "output_type": "execute_result",
          "data": {
            "text/html": [
              "<div>\n",
              "<style scoped>\n",
              "    .dataframe tbody tr th:only-of-type {\n",
              "        vertical-align: middle;\n",
              "    }\n",
              "\n",
              "    .dataframe tbody tr th {\n",
              "        vertical-align: top;\n",
              "    }\n",
              "\n",
              "    .dataframe thead th {\n",
              "        text-align: right;\n",
              "    }\n",
              "</style>\n",
              "<table border=\"1\" class=\"dataframe\">\n",
              "  <thead>\n",
              "    <tr style=\"text-align: right;\">\n",
              "      <th></th>\n",
              "      <th>id</th>\n",
              "      <th>latitude</th>\n",
              "      <th>longitude</th>\n",
              "    </tr>\n",
              "  </thead>\n",
              "  <tbody>\n",
              "    <tr>\n",
              "      <th>0</th>\n",
              "      <td>1</td>\n",
              "      <td>37.460459</td>\n",
              "      <td>126.440680</td>\n",
              "    </tr>\n",
              "    <tr>\n",
              "      <th>1</th>\n",
              "      <td>1</td>\n",
              "      <td>37.478832</td>\n",
              "      <td>126.668558</td>\n",
              "    </tr>\n",
              "    <tr>\n",
              "      <th>2</th>\n",
              "      <td>2</td>\n",
              "      <td>37.562143</td>\n",
              "      <td>126.801884</td>\n",
              "    </tr>\n",
              "    <tr>\n",
              "      <th>3</th>\n",
              "      <td>2</td>\n",
              "      <td>37.567454</td>\n",
              "      <td>127.005627</td>\n",
              "    </tr>\n",
              "    <tr>\n",
              "      <th>4</th>\n",
              "      <td>3</td>\n",
              "      <td>37.460459</td>\n",
              "      <td>126.440680</td>\n",
              "    </tr>\n",
              "    <tr>\n",
              "      <th>5</th>\n",
              "      <td>3</td>\n",
              "      <td>37.524978</td>\n",
              "      <td>127.027718</td>\n",
              "    </tr>\n",
              "    <tr>\n",
              "      <th>6</th>\n",
              "      <td>3</td>\n",
              "      <td>37.503359</td>\n",
              "      <td>127.049177</td>\n",
              "    </tr>\n",
              "    <tr>\n",
              "      <th>7</th>\n",
              "      <td>3</td>\n",
              "      <td>37.524669</td>\n",
              "      <td>127.015911</td>\n",
              "    </tr>\n",
              "    <tr>\n",
              "      <th>8</th>\n",
              "      <td>3</td>\n",
              "      <td>37.529200</td>\n",
              "      <td>127.032597</td>\n",
              "    </tr>\n",
              "    <tr>\n",
              "      <th>9</th>\n",
              "      <td>3</td>\n",
              "      <td>37.674192</td>\n",
              "      <td>126.776955</td>\n",
              "    </tr>\n",
              "  </tbody>\n",
              "</table>\n",
              "</div>"
            ],
            "text/plain": [
              "   id   latitude   longitude\n",
              "0   1  37.460459  126.440680\n",
              "1   1  37.478832  126.668558\n",
              "2   2  37.562143  126.801884\n",
              "3   2  37.567454  127.005627\n",
              "4   3  37.460459  126.440680\n",
              "5   3  37.524978  127.027718\n",
              "6   3  37.503359  127.049177\n",
              "7   3  37.524669  127.015911\n",
              "8   3  37.529200  127.032597\n",
              "9   3  37.674192  126.776955"
            ]
          },
          "metadata": {
            "tags": []
          },
          "execution_count": 36
        }
      ]
    },
    {
      "cell_type": "markdown",
      "metadata": {
        "id": "JV51uYE2aH8b",
        "colab_type": "text"
      },
      "source": [
        "####Checking number of clusters"
      ]
    },
    {
      "cell_type": "code",
      "metadata": {
        "id": "nEn35yknaFrZ",
        "colab_type": "code",
        "colab": {
          "base_uri": "https://localhost:8080/",
          "height": 339
        },
        "outputId": "146bd26e-ef5a-4291-cc92-5fae02bcbbdb"
      },
      "source": [
        "K_clusters = range(1,8)\n",
        "kmeans = [KMeans(n_clusters=i) for i in K_clusters]\n",
        "Y_axis = df_route[['latitude']]\n",
        "X_axis = df_route[['longitude']]\n",
        "score = [kmeans[i].fit(Y_axis).score(Y_axis) for i in range(len(kmeans))]\n",
        "plt.plot(K_clusters, score)\n",
        "plt.xlabel('Number of Clusters')\n",
        "plt.ylabel('Score')\n",
        "plt.show()"
      ],
      "execution_count": 37,
      "outputs": [
        {
          "output_type": "display_data",
          "data": {
            "image/png": "[encoded data removed]",
            "text/plain": [
              "<Figure size 360x360 with 1 Axes>"
            ]
          },
          "metadata": {
            "tags": []
          }
        }
      ]
    },
    {
      "cell_type": "code",
      "metadata": {
        "id": "Ejf2meBuaJ3p",
        "colab_type": "code",
        "colab": {}
      },
      "source": [
        "kmeans = KMeans(n_clusters = 4, init ='k-means++')\n",
        "kmeans.fit(clus[clus.columns[1:3]])\n",
        "clus['cluster_label'] = kmeans.fit_predict(clus[clus.columns[1:3]])\n",
        "centers = kmeans.cluster_centers_\n",
        "labels = kmeans.predict(clus[clus.columns[1:3]])"
      ],
      "execution_count": 0,
      "outputs": []
    },
    {
      "cell_type": "code",
      "metadata": {
        "id": "amgd27WxaLvY",
        "colab_type": "code",
        "colab": {}
      },
      "source": [
        ""
      ],
      "execution_count": 0,
      "outputs": []
    }
  ]
}